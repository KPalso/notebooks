{
 "cells": [
  {
   "cell_type": "code",
   "execution_count": 1,
   "id": "patent-arthur",
   "metadata": {},
   "outputs": [],
   "source": [
    "import os\n",
    "import pandas as pd"
   ]
  },
  {
   "cell_type": "code",
   "execution_count": 2,
   "id": "american-killer",
   "metadata": {},
   "outputs": [],
   "source": [
    "###some functions I am creating myself\n",
    "#about_df - print some things about the dataset\n",
    "def about_df(df):\n",
    "    print(\"(proc print) first 5 observations\")\n",
    "    print(df.head())\n",
    "    print(\"(proc print) last 5 observations\")\n",
    "    print(df.tail())\n",
    "    print(\"(dictionary.columns/click view columns) find header/column/variable names\")\n",
    "    print(df.keys())\n",
    "    print(\"same as above. columns\")\n",
    "    print(df.columns)\n",
    "    print(\"(proc sql count()) rows\")\n",
    "    print(df.count())\n",
    "\n",
    "###two_columns - tell me about two columns\n",
    "def two_columns(df,col1,col2):\n",
    "    print(\"access a column\")\n",
    "    print(df.loc[:10,col1])\n",
    "    print(\"access multiple columns - notice double brackets in the code\")\n",
    "    print(df[[col1,col2]].head())\n",
    "    print(\"I only want these two columsn in a dataframe\")\n",
    "    df2 = df[[col1,col2]].copy()\n",
    "    print(df2.head())\n",
    "    print(\"(missing()) check for missing numbers\")\n",
    "    print(df2.isnull().sum())\n",
    "\n",
    "###create_age - simple age calculation as of 2021\n",
    "def create_age(series):\n",
    "    return 2021 - series\n",
    "\n",
    "###year_mock - define a year based on mockaroo-generated gender values\n",
    "def year_mock(series):\n",
    "    if series == \"Female\":\n",
    "        return 1984 \n",
    "    elif series == \"Bigender\":\n",
    "        return 1950 \n",
    "    elif series == \"Polygender\":\n",
    "        return 2000\n",
    "    elif series == \"Agender\":\n",
    "        return 1993\n",
    "    elif series == \"Non-binary\":\n",
    "        return 1972\n",
    "    elif series == \"Male\":\n",
    "        return 1959\n",
    "    elif series == \"Genderfluid\":\n",
    "        return 1921\n",
    "    else:\n",
    "        return 2016\n",
    "\n",
    "###age_groups - recode age into groups as a different column        \n",
    "def age_groups(series):\n",
    "    if series < 20:\n",
    "        return \"15-19 yrs\"\n",
    "    elif 20 <= series < 25:\n",
    "        return \"20-24 yrs\"\n",
    "    elif 25 <= series < 45:\n",
    "        return \"25-44 yrs\"\n",
    "    else:\n",
    "        return \"45 and up\""
   ]
  },
  {
   "cell_type": "code",
   "execution_count": 4,
   "id": "restricted-gibraltar",
   "metadata": {},
   "outputs": [
    {
     "name": "stdout",
     "output_type": "stream",
     "text": [
      "\n",
      "    (SAS equivalent procs, statements, and functions are in parentheses)\n",
      "Get a CSV file and view information about it\n",
      "(SYSGET) get environment variables\n"
     ]
    }
   ],
   "source": [
    "#print() will add a line. So will \\n\n",
    "print()        \n",
    "print(\"    (SAS equivalent procs, statements, and functions are in parentheses)\")\n",
    "#CSV file - mockaroo\n",
    "#escape characters https://www.w3schools.com/python/gloss_python_escape_characters.asp\n",
    "#      if you had a file path you would need it to look like //my//file//path//escape.txt\n",
    "print(\"Get a CSV file and view information about it\\n\")\n",
    "print(\"notice that new line mark in the code?\")\n",
    "#getting environment variables\n",
    "print(\"(SYSGET) get environment variables\")\n",
    "#This isn't connected to anything so it's commented out. This is how you get your environment variables.\n",
    "#sandbox=os.environ['SAND']"
   ]
  },
  {
   "cell_type": "code",
   "execution_count": 7,
   "id": "suffering-dragon",
   "metadata": {},
   "outputs": [
    {
     "name": "stdout",
     "output_type": "stream",
     "text": [
      "(%let, libname, variables) assign a variable\n",
      "(DATA;SET;) df is a dataframe\n",
      "\n",
      "(SAS dictionary) About the data frame\n",
      "(proc print) first 5 observations\n",
      "   id first_name    last_name                         email       gender  \\\n",
      "0   1   Mariette       McCabe         mmccabe0@google.co.jp  Genderfluid   \n",
      "1   2     Andrey        Erley        aerley1@yellowbook.com      Agender   \n",
      "2   3    Gustavo  Antoszewski  gantoszewski2@feedburner.com         Male   \n",
      "3   4     Jonell      Romeril        jromeril3@japanpost.jp     Bigender   \n",
      "4   5        Pru     Laurance  plaurance4@timesonline.co.uk       Female   \n",
      "\n",
      "           zip     income                    movies  \n",
      "0       658065  $31695.14                    Ludwig  \n",
      "1          NaN  $66249.68                    Dororo  \n",
      "2        33150  $21292.77  Discovery of Heaven, The  \n",
      "3     4485-824  $52098.38                 Her Alibi  \n",
      "4  79104 CEDEX  $80674.04              Bottle Shock  \n",
      "(proc print) last 5 observations\n",
      "       id first_name   last_name                        email       gender  \\\n",
      "995   996    Berkley     Trinbey      btrinbeyrn@symantec.com     Bigender   \n",
      "996   997      Nessa      Gorham          ngorhamro@state.gov       Female   \n",
      "997   998     Donica    Waddoups  dwaddoupsrp@arstechnica.com  Genderqueer   \n",
      "998   999     Clarey      Hadden       chaddenrq@geocities.jp   Non-binary   \n",
      "999  1000    Cyrille  Cattermole       ccattermolerr@hibu.com   Polygender   \n",
      "\n",
      "          zip     income                                             movies  \n",
      "995       NaN  $80920.24  Cairo Station (a.k.a. Iron Gate, The) (Bab el ...  \n",
      "996    125 71  $54865.32            Off the Menu: The Last Days of Chasen's  \n",
      "997     53405  $49141.86                         Rambo: First Blood Part II  \n",
      "998  7005-676  $60270.51      Tiny Toon Adventures: How I Spent My Vacation  \n",
      "999       NaN  $28783.40                                            Scorpio  \n",
      "(dictionary.columns/click view columns) find header/column/variable names\n",
      "Index(['id', 'first_name', 'last_name', 'email', 'gender', 'zip', 'income',\n",
      "       'movies'],\n",
      "      dtype='object')\n",
      "same as above. columns\n",
      "Index(['id', 'first_name', 'last_name', 'email', 'gender', 'zip', 'income',\n",
      "       'movies'],\n",
      "      dtype='object')\n",
      "(proc sql count()) rows\n",
      "id            1000\n",
      "first_name     970\n",
      "last_name     1000\n",
      "email         1000\n",
      "gender        1000\n",
      "zip            472\n",
      "income         970\n",
      "movies         970\n",
      "dtype: int64\n"
     ]
    }
   ],
   "source": [
    "print(\"(%let, libname, variables) assign a variable\")\n",
    "filedat = os.path.join(\"data\",\"MOCK_DATA.csv\")\n",
    "#df is a pandas dataframe that will have your data in it\n",
    "print(\"(DATA;SET;) df is a dataframe\\n\")\n",
    "df = pd.read_csv(filedat)\n",
    "print(\"(SAS dictionary) About the data frame\")\n",
    "about_df(df)"
   ]
  },
  {
   "cell_type": "code",
   "execution_count": null,
   "id": "defined-california",
   "metadata": {},
   "outputs": [],
   "source": []
  },
  {
   "cell_type": "code",
   "execution_count": null,
   "id": "ordered-bowling",
   "metadata": {},
   "outputs": [],
   "source": []
  }
 ],
 "metadata": {
  "kernelspec": {
   "display_name": "Python 3",
   "language": "python",
   "name": "python3"
  },
  "language_info": {
   "codemirror_mode": {
    "name": "ipython",
    "version": 3
   },
   "file_extension": ".py",
   "mimetype": "text/x-python",
   "name": "python",
   "nbconvert_exporter": "python",
   "pygments_lexer": "ipython3",
   "version": "3.7.8"
  }
 },
 "nbformat": 4,
 "nbformat_minor": 5
}
