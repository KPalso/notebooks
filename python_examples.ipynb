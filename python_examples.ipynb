{
 "cells": [
  {
   "cell_type": "markdown",
   "metadata": {
    "id": "f1bVvhVt6Zbj"
   },
   "source": [
    "# **Welcome to this Notebook!**\n",
    "## You can ctrl+F search it for SAS commands and functions and other keywords.\n",
    "\n",
    "* proc print\n",
    "* proc print (obs=5)\n",
    "* proc print var myvar1 myvar2\n",
    "* keep myvariable1 myvariable2\n",
    "* missing(myvariable)=1\n",
    "* recoding a variable\n",
    "* SYSGET\n",
    "* put %put\n",
    "* proc import a csv\n",
    "* %let, libname, variables\n",
    "* DATA;SET;\n",
    "* SAS dictionary\n",
    "* proc freq\n",
    "* proc freq /missing\n",
    "* recode - create age from yob\n",
    "* crosstab example\n",
    "* mean category for numeric variables\n",
    "* DATA keep myvariable1 myvariable2\n",
    "* (proc freq) find proportions, round to 2 decimal places\n",
    "* proc print where\n",
    "* proc print where ID\n",
    "* STRINGS (index > 0)\n",
    "* proc sort"
   ]
  },
  {
   "cell_type": "markdown",
   "metadata": {
    "id": "EvWgw0rKIMnJ"
   },
   "source": [
    "In Python, you have to import packages that your program needs. Pandas is a popular one. You can import only certain parts of a package like pandas or the whole thing, like I've done below."
   ]
  },
  {
   "cell_type": "code",
   "execution_count": 1,
   "metadata": {
    "colab": {
     "base_uri": "https://localhost:8080/"
    },
    "executionInfo": {
     "elapsed": 268,
     "status": "ok",
     "timestamp": 1627395391192,
     "user": {
      "displayName": "Katie Palso",
      "photoUrl": "",
      "userId": "09487786724836070723"
     },
     "user_tz": 240
    },
    "id": "lavUnaLM6e6G",
    "outputId": "9d0a2f74-efd1-4092-c066-c39f82d0c02a"
   },
   "outputs": [],
   "source": [
    "###Many examples in one document\n",
    "###this cell won't print anything, and doesn't mirror any behavior in Base SAS that you do on a day to day basis\n",
    "###    you have to tell python what modules/packages you'll be using in a script, and the dependencies for those packages\n",
    "###    need to be present in your environment\n",
    "\n",
    "#os is used in below cells for examples of getting environment variables (same for Windows and Linux), and defining a filepath\n",
    "#os can be used to define an actual file rather than just a path using os.fdopen, \n",
    "#    and you need to close files after you open them\n",
    "#os can also be used to check if a file exists or if it's a file or a directory\n",
    "#here is the documentation link for os https://docs.python.org/3/library/os.html\n",
    "#search for os.environ, os.path.join, os.path, and os.fdopen to get\n",
    "#    a sense of the documentation for python now that you know what these do!\n",
    "import os\n",
    "\n",
    "#pd is a shorthand that I define for pandas\n",
    "import pandas as pd\n"
   ]
  },
  {
   "cell_type": "markdown",
   "metadata": {
    "id": "_aSlSnCN615_"
   },
   "source": [
    "Python allows you to create anything you need. You can create functions that return something. It makes it easy to reuse code reliably."
   ]
  },
  {
   "cell_type": "code",
   "execution_count": 2,
   "metadata": {
    "executionInfo": {
     "elapsed": 255,
     "status": "ok",
     "timestamp": 1627395088723,
     "user": {
      "displayName": "Katie Palso",
      "photoUrl": "",
      "userId": "09487786724836070723"
     },
     "user_tz": 240
    },
    "id": "qdLPofAM6-SH"
   },
   "outputs": [],
   "source": [
    "###some functions I am creating myself\n",
    "###this cell won't print anything\n",
    "\n",
    "#sometimes, you'll use a function to print something that you want to look at every time\n",
    "#the function doesn't return anything, see below for an example in create_age, year_mock, and age_groups\n",
    "#sometimes, a function will set a variable associated with an object\n",
    "#about_df - print some things about the dataset\n",
    "def about_df(df):\n",
    "    print(\"\\n(proc print obs=) first 5 observations 'df.head()'\")\n",
    "    print(df.head())\n",
    "    print(\"\\n(proc print obs=) last 5 observations 'df.tail()'\")\n",
    "    print(df.tail())\n",
    "    print(\"\\n(dictionary.columns/click view columns) find header/column/variable names 'df.keys'\")\n",
    "    print(df.keys())\n",
    "    print(\"\\nsame as above. 'df.columns'\")\n",
    "    print(df.columns)\n",
    "    print(\"\\n(proc sql count()) rows 'df.count()'\")\n",
    "    print(df.count())\n",
    "\n",
    "###two_columns - tell me about two columns\n",
    "def two_columns(df,col1,col2):\n",
    "    print(\"access a column 'df.loc'\")\n",
    "    print(df.loc[:10,col1])\n",
    "    print(\"(proc print var myvar1 myvar2 ) access multiple columns - notice double brackets in the code\")\n",
    "    print(df[[col1,col2]].head())\n",
    "    print(\"(keep myvariable1 myvariable2) I only want these two columns in a dataframe\")\n",
    "    df2 = df[[col1,col2]].copy()\n",
    "    print(df2.head())\n",
    "    print(\"(missing()) check for missing numbers\")\n",
    "    print(df2.isnull().sum())\n",
    "\n",
    "###create_age - simple age calculation as of 2021\n",
    "###    sometimes you'll want a function to return something, in this case, we're returning a series where you\n",
    "###    subtract each element from 2021 and return the whole series\n",
    "def create_age(series):\n",
    "    return 2021 - series\n",
    "\n",
    "###(recoding a variable) year_mock - define a year based on mockaroo-generated gender values\n",
    "def year_mock(series):\n",
    "    if series == \"Female\":\n",
    "        return 1984 \n",
    "    elif series == \"Bigender\":\n",
    "        return 1950 \n",
    "    elif series == \"Polygender\":\n",
    "        return 2000\n",
    "    elif series == \"Agender\":\n",
    "        return 1993\n",
    "    elif series == \"Non-binary\":\n",
    "        return 1972\n",
    "    elif series == \"Male\":\n",
    "        return 1959\n",
    "    elif series == \"Genderfluid\":\n",
    "        return 1921\n",
    "    else:\n",
    "        return 2016\n",
    "\n",
    "###age_groups - recode age into groups as a different column        \n",
    "def age_groups(series):\n",
    "    #series.fillna(-999)\n",
    "    if series < 20:\n",
    "        return \"15-19 yrs\"\n",
    "    elif 20 <= series < 25:\n",
    "        return \"20-24 yrs\"\n",
    "    elif 25 <= series < 45:\n",
    "        return \"25-44 yrs\"\n",
    "    else:\n",
    "        return \"45 and up\""
   ]
  },
  {
   "cell_type": "markdown",
   "metadata": {
    "id": "7IvqrESq77fW"
   },
   "source": [
    "(SAS equivalent procs, statements, and functions are in parentheses)"
   ]
  },
  {
   "cell_type": "code",
   "execution_count": 3,
   "metadata": {
    "colab": {
     "base_uri": "https://localhost:8080/"
    },
    "executionInfo": {
     "elapsed": 287,
     "status": "ok",
     "timestamp": 1627395401256,
     "user": {
      "displayName": "Katie Palso",
      "photoUrl": "",
      "userId": "09487786724836070723"
     },
     "user_tz": 240
    },
    "id": "LoPr3bPXC1yE",
    "outputId": "6cccf793-c0c9-4f81-c7bd-e8425b747243"
   },
   "outputs": [
    {
     "name": "stdout",
     "output_type": "stream",
     "text": [
      "(SYSGET) get environment variables - see the next line for the syntax\n",
      "sandbox=os.environ['SAND']\n",
      "\n",
      "(PUT and %PUT) notice the \\n in the code. It creates a new line like print() does.\n"
     ]
    }
   ],
   "source": [
    "#This cell shows one way to get environment variables and a way to use them as a filepath.\n",
    "print(\"(SYSGET) get environment variables - see the next line for the syntax\")\n",
    "print(\"sandbox=os.environ['SAND']\\n\")\n",
    "print(\"(PUT and %PUT) notice the \\\\n in the code. It creates a new line like print() does.\")\n",
    "\n",
    "javahome=os.environ['JAVA_HOME']\n",
    "#print(\"javahome=\",javahome)\n",
    "\n",
    "#(proc import a csv) example of reading the data from a specified file path\n",
    "#sandbox=os.environ['SAND']\n",
    "#filedat = os.path.join(sandbox,\"pythonpresent\",\"MOCK_DATA.csv\")\n",
    "#df = pd.read_csv(filedat)"
   ]
  },
  {
   "cell_type": "code",
   "execution_count": 4,
   "metadata": {
    "colab": {
     "base_uri": "https://localhost:8080/"
    },
    "executionInfo": {
     "elapsed": 830,
     "status": "ok",
     "timestamp": 1627395455149,
     "user": {
      "displayName": "Katie Palso",
      "photoUrl": "",
      "userId": "09487786724836070723"
     },
     "user_tz": 240
    },
    "id": "iBAvb_gl7KB3",
    "outputId": "098169f8-27bf-410e-9ccf-cebf97a30bde"
   },
   "outputs": [
    {
     "name": "stdout",
     "output_type": "stream",
     "text": [
      "\n",
      "    (SAS equivalent procs, statements, and functions are in parentheses)\n",
      "Get a CSV file and view information about it\n",
      "(%let, libname, variables) assign the data frame to a variable\n",
      "(DATA;SET;) df is a dataframe\n"
     ]
    }
   ],
   "source": [
    "print()        \n",
    "print(\"    (SAS equivalent procs, statements, and functions are in parentheses)\")\n",
    "#CSV file - mockaroo\n",
    "#escape characters https://www.w3schools.com/python/gloss_python_escape_characters.asp\n",
    "#      if you had a file path you would need it to look like //my//file//path//escape.txt\n",
    "print(\"Get a CSV file and view information about it\")\n",
    "print(\"(%let, libname, variables) assign the data frame to a variable\")\n",
    "df = pd.read_csv('MOCK_DATA.csv')\n",
    "#df is a pandas dataframe that will have your data in it\n",
    "print(\"(DATA;SET;) df is a dataframe\")"
   ]
  },
  {
   "cell_type": "code",
   "execution_count": 5,
   "metadata": {
    "colab": {
     "base_uri": "https://localhost:8080/"
    },
    "executionInfo": {
     "elapsed": 264,
     "status": "ok",
     "timestamp": 1627395457937,
     "user": {
      "displayName": "Katie Palso",
      "photoUrl": "",
      "userId": "09487786724836070723"
     },
     "user_tz": 240
    },
    "id": "y0vKYf3C8ErM",
    "outputId": "de7ca08a-c8ef-46e3-bde5-126e2f37cb12"
   },
   "outputs": [
    {
     "name": "stdout",
     "output_type": "stream",
     "text": [
      "(SAS dictionary) About the data frame\n",
      "Notice this points to the function defined in a cell above 'def about_df:'\n",
      "\n",
      "\n",
      "(proc print obs=) first 5 observations 'df.head()'\n",
      "   id first_name    last_name                         email       gender  \\\n",
      "0   1   Mariette       McCabe         mmccabe0@google.co.jp  Genderfluid   \n",
      "1   2     Andrey        Erley        aerley1@yellowbook.com      Agender   \n",
      "2   3    Gustavo  Antoszewski  gantoszewski2@feedburner.com         Male   \n",
      "3   4     Jonell      Romeril        jromeril3@japanpost.jp     Bigender   \n",
      "4   5        Pru     Laurance  plaurance4@timesonline.co.uk       Female   \n",
      "\n",
      "           zip     income                    movies  \n",
      "0       658065  $31695.14                    Ludwig  \n",
      "1          NaN  $66249.68                    Dororo  \n",
      "2        33150  $21292.77  Discovery of Heaven, The  \n",
      "3     4485-824  $52098.38                 Her Alibi  \n",
      "4  79104 CEDEX  $80674.04              Bottle Shock  \n",
      "\n",
      "(proc print obs=) last 5 observations 'df.tail()'\n",
      "       id first_name   last_name                        email       gender  \\\n",
      "995   996    Berkley     Trinbey      btrinbeyrn@symantec.com     Bigender   \n",
      "996   997      Nessa      Gorham          ngorhamro@state.gov       Female   \n",
      "997   998     Donica    Waddoups  dwaddoupsrp@arstechnica.com  Genderqueer   \n",
      "998   999     Clarey      Hadden       chaddenrq@geocities.jp   Non-binary   \n",
      "999  1000    Cyrille  Cattermole       ccattermolerr@hibu.com   Polygender   \n",
      "\n",
      "          zip     income                                             movies  \n",
      "995       NaN  $80920.24  Cairo Station (a.k.a. Iron Gate, The) (Bab el ...  \n",
      "996    125 71  $54865.32            Off the Menu: The Last Days of Chasen's  \n",
      "997     53405  $49141.86                         Rambo: First Blood Part II  \n",
      "998  7005-676  $60270.51      Tiny Toon Adventures: How I Spent My Vacation  \n",
      "999       NaN  $28783.40                                            Scorpio  \n",
      "\n",
      "(dictionary.columns/click view columns) find header/column/variable names 'df.keys'\n",
      "Index(['id', 'first_name', 'last_name', 'email', 'gender', 'zip', 'income',\n",
      "       'movies'],\n",
      "      dtype='object')\n",
      "\n",
      "same as above. 'df.columns'\n",
      "Index(['id', 'first_name', 'last_name', 'email', 'gender', 'zip', 'income',\n",
      "       'movies'],\n",
      "      dtype='object')\n",
      "\n",
      "(proc sql count()) rows 'df.count()'\n",
      "id            1000\n",
      "first_name     970\n",
      "last_name     1000\n",
      "email         1000\n",
      "gender        1000\n",
      "zip            472\n",
      "income         970\n",
      "movies         970\n",
      "dtype: int64\n"
     ]
    }
   ],
   "source": [
    "print(\"(SAS dictionary) About the data frame\")\n",
    "print(\"Notice this points to the function defined in a cell above 'def about_df:'\\n\")\n",
    "about_df(df)"
   ]
  },
  {
   "cell_type": "code",
   "execution_count": 6,
   "metadata": {
    "colab": {
     "base_uri": "https://localhost:8080/"
    },
    "executionInfo": {
     "elapsed": 263,
     "status": "ok",
     "timestamp": 1627395461179,
     "user": {
      "displayName": "Katie Palso",
      "photoUrl": "",
      "userId": "09487786724836070723"
     },
     "user_tz": 240
    },
    "id": "nGK68HNbEs5f",
    "outputId": "a7d33177-84c5-4394-d57b-d73bb65493b8"
   },
   "outputs": [
    {
     "name": "stdout",
     "output_type": "stream",
     "text": [
      "(proc print data=mydata (obs=5)) access a single string-named column df.movies without spaces in the name\n",
      "     df.movies.head() means you access the first 5 rows only.\n",
      "     Notice python begins at 0 where SAS almost exclusively begins at 1\n",
      "0                      Ludwig\n",
      "1                      Dororo\n",
      "2    Discovery of Heaven, The\n",
      "3                   Her Alibi\n",
      "4                Bottle Shock\n",
      "Name: movies, dtype: object\n"
     ]
    }
   ],
   "source": [
    "print(\"(proc print data=mydata (obs=5)) access a single string-named column df.movies without spaces in the name\")\n",
    "print(\"     df.movies.head() means you access the first 5 rows only.\")\n",
    "print(\"     Notice python begins at 0 where SAS almost exclusively begins at 1\")\n",
    "print(df.movies.head())"
   ]
  },
  {
   "cell_type": "code",
   "execution_count": 7,
   "metadata": {
    "colab": {
     "base_uri": "https://localhost:8080/"
    },
    "executionInfo": {
     "elapsed": 797,
     "status": "ok",
     "timestamp": 1627395463067,
     "user": {
      "displayName": "Katie Palso",
      "photoUrl": "",
      "userId": "09487786724836070723"
     },
     "user_tz": 240
    },
    "id": "gZuSv5jaFArf",
    "outputId": "9f97778d-8270-416a-dcd1-2edde54a2806"
   },
   "outputs": [
    {
     "name": "stdout",
     "output_type": "stream",
     "text": [
      "get info about two columns\n",
      "access a column 'df.loc'\n",
      "0            mmccabe0@google.co.jp\n",
      "1           aerley1@yellowbook.com\n",
      "2     gantoszewski2@feedburner.com\n",
      "3           jromeril3@japanpost.jp\n",
      "4     plaurance4@timesonline.co.uk\n",
      "5            fbeardsworth5@ted.com\n",
      "6           lshottin6@stanford.edu\n",
      "7             kdumpleton7@narod.ru\n",
      "8         xmatthews8@csmonitor.com\n",
      "9             glere9@princeton.edu\n",
      "10    ljakuszewskia@infoseek.co.jp\n",
      "Name: email, dtype: object\n",
      "(proc print var myvar1 myvar2 ) access multiple columns - notice double brackets in the code\n",
      "                          email       gender\n",
      "0         mmccabe0@google.co.jp  Genderfluid\n",
      "1        aerley1@yellowbook.com      Agender\n",
      "2  gantoszewski2@feedburner.com         Male\n",
      "3        jromeril3@japanpost.jp     Bigender\n",
      "4  plaurance4@timesonline.co.uk       Female\n",
      "(keep myvariable1 myvariable2) I only want these two columns in a dataframe\n",
      "                          email       gender\n",
      "0         mmccabe0@google.co.jp  Genderfluid\n",
      "1        aerley1@yellowbook.com      Agender\n",
      "2  gantoszewski2@feedburner.com         Male\n",
      "3        jromeril3@japanpost.jp     Bigender\n",
      "4  plaurance4@timesonline.co.uk       Female\n",
      "(missing()) check for missing numbers\n",
      "email     0\n",
      "gender    0\n",
      "dtype: int64\n"
     ]
    }
   ],
   "source": [
    "print(\"get info about two columns\")\n",
    "two_columns(df,'email','gender')"
   ]
  },
  {
   "cell_type": "code",
   "execution_count": 8,
   "metadata": {
    "colab": {
     "base_uri": "https://localhost:8080/"
    },
    "executionInfo": {
     "elapsed": 2,
     "status": "ok",
     "timestamp": 1627395465543,
     "user": {
      "displayName": "Katie Palso",
      "photoUrl": "",
      "userId": "09487786724836070723"
     },
     "user_tz": 240
    },
    "id": "tszuQC0RFGa7",
    "outputId": "2298393a-4415-4e99-d852-7aff1dfb4287"
   },
   "outputs": [
    {
     "name": "stdout",
     "output_type": "stream",
     "text": [
      "(proc freq) frequency of values in one column\n",
      "Female         138\n",
      "Bigender       134\n",
      "Polygender     130\n",
      "Agender        126\n",
      "Non-binary     125\n",
      "Male           123\n",
      "Genderfluid    116\n",
      "Genderqueer    108\n",
      "Name: gender, dtype: int64\n"
     ]
    }
   ],
   "source": [
    "print(\"(proc freq) frequency of values in one column\")\n",
    "print(df.loc[:,'gender'].value_counts())"
   ]
  },
  {
   "cell_type": "code",
   "execution_count": 9,
   "metadata": {
    "colab": {
     "base_uri": "https://localhost:8080/"
    },
    "executionInfo": {
     "elapsed": 276,
     "status": "ok",
     "timestamp": 1627395467737,
     "user": {
      "displayName": "Katie Palso",
      "photoUrl": "",
      "userId": "09487786724836070723"
     },
     "user_tz": 240
    },
    "id": "2SZk24vpFIMx",
    "outputId": "d5cec21f-f20c-486a-b036-182c0421e6df"
   },
   "outputs": [
    {
     "name": "stdout",
     "output_type": "stream",
     "text": [
      "(proc freq /missing) frequency of values in one column display missing also\n",
      "     False in dropna must be capitalized\n",
      "Female         138\n",
      "Bigender       134\n",
      "Polygender     130\n",
      "Agender        126\n",
      "Non-binary     125\n",
      "Male           123\n",
      "Genderfluid    116\n",
      "Genderqueer    108\n",
      "Name: gender, dtype: int64\n"
     ]
    }
   ],
   "source": [
    "print(\"(proc freq /missing) frequency of values in one column display missing also\")\n",
    "print(\"     False in dropna must be capitalized\")\n",
    "print(df.loc[:,'gender'].value_counts(dropna=False))"
   ]
  },
  {
   "cell_type": "code",
   "execution_count": 10,
   "metadata": {
    "colab": {
     "base_uri": "https://localhost:8080/"
    },
    "executionInfo": {
     "elapsed": 3,
     "status": "ok",
     "timestamp": 1627395469159,
     "user": {
      "displayName": "Katie Palso",
      "photoUrl": "",
      "userId": "09487786724836070723"
     },
     "user_tz": 240
    },
    "id": "PR03fXurFM5F",
    "outputId": "8d717bb1-6f91-4e47-ec0b-ba72720e7924"
   },
   "outputs": [
    {
     "name": "stdout",
     "output_type": "stream",
     "text": [
      "recode - create age from yob\n",
      "let's put year of birth yob on the file - I will use the gender categories provided to create some\n"
     ]
    }
   ],
   "source": [
    "print(\"recode - create age from yob\")\n",
    "print(\"let's put year of birth yob on the file - I will use the gender categories provided to create some\")\n",
    "df['yob'] = df['gender'].apply(year_mock)"
   ]
  },
  {
   "cell_type": "code",
   "execution_count": 11,
   "metadata": {
    "colab": {
     "base_uri": "https://localhost:8080/"
    },
    "executionInfo": {
     "elapsed": 268,
     "status": "ok",
     "timestamp": 1627395473006,
     "user": {
      "displayName": "Katie Palso",
      "photoUrl": "",
      "userId": "09487786724836070723"
     },
     "user_tz": 240
    },
    "id": "8TJ1vPeiFSW7",
    "outputId": "df0dabf9-0f97-4498-f257-a93c825cfafc"
   },
   "outputs": [
    {
     "name": "stdout",
     "output_type": "stream",
     "text": [
      "see the new column\n",
      "\n",
      "(proc print obs=) first 5 observations 'df.head()'\n",
      "   id first_name    last_name                         email       gender  \\\n",
      "0   1   Mariette       McCabe         mmccabe0@google.co.jp  Genderfluid   \n",
      "1   2     Andrey        Erley        aerley1@yellowbook.com      Agender   \n",
      "2   3    Gustavo  Antoszewski  gantoszewski2@feedburner.com         Male   \n",
      "3   4     Jonell      Romeril        jromeril3@japanpost.jp     Bigender   \n",
      "4   5        Pru     Laurance  plaurance4@timesonline.co.uk       Female   \n",
      "\n",
      "           zip     income                    movies   yob  \n",
      "0       658065  $31695.14                    Ludwig  1921  \n",
      "1          NaN  $66249.68                    Dororo  1993  \n",
      "2        33150  $21292.77  Discovery of Heaven, The  1959  \n",
      "3     4485-824  $52098.38                 Her Alibi  1950  \n",
      "4  79104 CEDEX  $80674.04              Bottle Shock  1984  \n",
      "\n",
      "(proc print obs=) last 5 observations 'df.tail()'\n",
      "       id first_name   last_name                        email       gender  \\\n",
      "995   996    Berkley     Trinbey      btrinbeyrn@symantec.com     Bigender   \n",
      "996   997      Nessa      Gorham          ngorhamro@state.gov       Female   \n",
      "997   998     Donica    Waddoups  dwaddoupsrp@arstechnica.com  Genderqueer   \n",
      "998   999     Clarey      Hadden       chaddenrq@geocities.jp   Non-binary   \n",
      "999  1000    Cyrille  Cattermole       ccattermolerr@hibu.com   Polygender   \n",
      "\n",
      "          zip     income                                             movies  \\\n",
      "995       NaN  $80920.24  Cairo Station (a.k.a. Iron Gate, The) (Bab el ...   \n",
      "996    125 71  $54865.32            Off the Menu: The Last Days of Chasen's   \n",
      "997     53405  $49141.86                         Rambo: First Blood Part II   \n",
      "998  7005-676  $60270.51      Tiny Toon Adventures: How I Spent My Vacation   \n",
      "999       NaN  $28783.40                                            Scorpio   \n",
      "\n",
      "      yob  \n",
      "995  1950  \n",
      "996  1984  \n",
      "997  2016  \n",
      "998  1972  \n",
      "999  2000  \n",
      "\n",
      "(dictionary.columns/click view columns) find header/column/variable names 'df.keys'\n",
      "Index(['id', 'first_name', 'last_name', 'email', 'gender', 'zip', 'income',\n",
      "       'movies', 'yob'],\n",
      "      dtype='object')\n",
      "\n",
      "same as above. 'df.columns'\n",
      "Index(['id', 'first_name', 'last_name', 'email', 'gender', 'zip', 'income',\n",
      "       'movies', 'yob'],\n",
      "      dtype='object')\n",
      "\n",
      "(proc sql count()) rows 'df.count()'\n",
      "id            1000\n",
      "first_name     970\n",
      "last_name     1000\n",
      "email         1000\n",
      "gender        1000\n",
      "zip            472\n",
      "income         970\n",
      "movies         970\n",
      "yob           1000\n",
      "dtype: int64\n"
     ]
    }
   ],
   "source": [
    "print(\"see the new column\")\n",
    "about_df(df)"
   ]
  },
  {
   "cell_type": "code",
   "execution_count": 12,
   "metadata": {
    "colab": {
     "base_uri": "https://localhost:8080/"
    },
    "executionInfo": {
     "elapsed": 261,
     "status": "ok",
     "timestamp": 1627395475974,
     "user": {
      "displayName": "Katie Palso",
      "photoUrl": "",
      "userId": "09487786724836070723"
     },
     "user_tz": 240
    },
    "id": "hAX1SKIxFTaz",
    "outputId": "f58fbf5a-c30b-487f-a805-3e21ecf441e9"
   },
   "outputs": [
    {
     "name": "stdout",
     "output_type": "stream",
     "text": [
      "see the new column\n",
      "access a column 'df.loc'\n",
      "0     1921\n",
      "1     1993\n",
      "2     1959\n",
      "3     1950\n",
      "4     1984\n",
      "5     1959\n",
      "6     2016\n",
      "7     1950\n",
      "8     1993\n",
      "9     1972\n",
      "10    2000\n",
      "Name: yob, dtype: int64\n",
      "(proc print var myvar1 myvar2 ) access multiple columns - notice double brackets in the code\n",
      "    yob       gender\n",
      "0  1921  Genderfluid\n",
      "1  1993      Agender\n",
      "2  1959         Male\n",
      "3  1950     Bigender\n",
      "4  1984       Female\n",
      "(keep myvariable1 myvariable2) I only want these two columns in a dataframe\n",
      "    yob       gender\n",
      "0  1921  Genderfluid\n",
      "1  1993      Agender\n",
      "2  1959         Male\n",
      "3  1950     Bigender\n",
      "4  1984       Female\n",
      "(missing()) check for missing numbers\n",
      "yob       0\n",
      "gender    0\n",
      "dtype: int64\n"
     ]
    }
   ],
   "source": [
    "print(\"see the new column\")\n",
    "two_columns(df,'yob','gender')"
   ]
  },
  {
   "cell_type": "code",
   "execution_count": 13,
   "metadata": {
    "colab": {
     "base_uri": "https://localhost:8080/"
    },
    "executionInfo": {
     "elapsed": 313,
     "status": "ok",
     "timestamp": 1627395478422,
     "user": {
      "displayName": "Katie Palso",
      "photoUrl": "",
      "userId": "09487786724836070723"
     },
     "user_tz": 240
    },
    "id": "ZMdPtNoJFauH",
    "outputId": "8b7fcf5a-dbd8-43e6-a06a-40fcc3ac5080"
   },
   "outputs": [
    {
     "name": "stdout",
     "output_type": "stream",
     "text": [
      "Now let's create an age column, then look at it.\n",
      "access a column 'df.loc'\n",
      "0     100\n",
      "1      28\n",
      "2      62\n",
      "3      71\n",
      "4      37\n",
      "5      62\n",
      "6       5\n",
      "7      71\n",
      "8      28\n",
      "9      49\n",
      "10     21\n",
      "Name: age, dtype: int64\n",
      "(proc print var myvar1 myvar2 ) access multiple columns - notice double brackets in the code\n",
      "   age   yob\n",
      "0  100  1921\n",
      "1   28  1993\n",
      "2   62  1959\n",
      "3   71  1950\n",
      "4   37  1984\n",
      "(keep myvariable1 myvariable2) I only want these two columns in a dataframe\n",
      "   age   yob\n",
      "0  100  1921\n",
      "1   28  1993\n",
      "2   62  1959\n",
      "3   71  1950\n",
      "4   37  1984\n",
      "(missing()) check for missing numbers\n",
      "age    0\n",
      "yob    0\n",
      "dtype: int64\n"
     ]
    }
   ],
   "source": [
    "print(\"Now let's create an age column, then look at it.\")\n",
    "df['age'] = df['yob'].apply(create_age)\n",
    "two_columns(df,'age','yob')"
   ]
  },
  {
   "cell_type": "code",
   "execution_count": 14,
   "metadata": {
    "colab": {
     "base_uri": "https://localhost:8080/",
     "height": 220
    },
    "executionInfo": {
     "elapsed": 393,
     "status": "error",
     "timestamp": 1627395042837,
     "user": {
      "displayName": "Katie Palso",
      "photoUrl": "",
      "userId": "09487786724836070723"
     },
     "user_tz": 240
    },
    "id": "8bUC-2VyFi0n",
    "outputId": "3384c9c5-02d4-44f2-db9e-1fea06ddc72b"
   },
   "outputs": [
    {
     "name": "stdout",
     "output_type": "stream",
     "text": [
      "Next, use the age_groups function defined above to create age categories.\n",
      "access a column 'df.loc'\n",
      "0     45 and up\n",
      "1     25-44 yrs\n",
      "2     45 and up\n",
      "3     45 and up\n",
      "4     25-44 yrs\n",
      "5     45 and up\n",
      "6     15-19 yrs\n",
      "7     45 and up\n",
      "8     25-44 yrs\n",
      "9     45 and up\n",
      "10    20-24 yrs\n",
      "Name: age2, dtype: object\n",
      "(proc print var myvar1 myvar2 ) access multiple columns - notice double brackets in the code\n",
      "        age2  age\n",
      "0  45 and up  100\n",
      "1  25-44 yrs   28\n",
      "2  45 and up   62\n",
      "3  45 and up   71\n",
      "4  25-44 yrs   37\n",
      "(keep myvariable1 myvariable2) I only want these two columns in a dataframe\n",
      "        age2  age\n",
      "0  45 and up  100\n",
      "1  25-44 yrs   28\n",
      "2  45 and up   62\n",
      "3  45 and up   71\n",
      "4  25-44 yrs   37\n",
      "(missing()) check for missing numbers\n",
      "age2    0\n",
      "age     0\n",
      "dtype: int64\n"
     ]
    }
   ],
   "source": [
    "print(\"Next, use the age_groups function defined above to create age categories.\")\n",
    "df['age2'] = df['age'].apply(age_groups)\n",
    "two_columns(df,'age2','age')"
   ]
  },
  {
   "cell_type": "code",
   "execution_count": 15,
   "metadata": {
    "colab": {
     "base_uri": "https://localhost:8080/"
    },
    "executionInfo": {
     "elapsed": 194,
     "status": "ok",
     "timestamp": 1627307816088,
     "user": {
      "displayName": "Katie Palso",
      "photoUrl": "",
      "userId": "09487786724836070723"
     },
     "user_tz": 240
    },
    "id": "-9IihSQXGo34",
    "outputId": "9b665f3a-692f-46f6-e629-adc544a3297f"
   },
   "outputs": [
    {
     "name": "stdout",
     "output_type": "stream",
     "text": [
      "(proc freq) crosstab example\n",
      "Age groups   15-19 yrs  20-24 yrs  25-44 yrs  45 and up\n",
      "Gender                                                 \n",
      "Agender              0          0        126          0\n",
      "Bigender             0          0          0        134\n",
      "Female               0          0        138          0\n",
      "Genderfluid          0          0          0        116\n",
      "Genderqueer        108          0          0          0\n",
      "Male                 0          0          0        123\n",
      "Non-binary           0          0          0        125\n",
      "Polygender           0        130          0          0\n"
     ]
    }
   ],
   "source": [
    "print(\"(proc freq) crosstab example\")\n",
    "a = pd.crosstab(df.gender,df.age2, rownames=[\"Gender\"], colnames=[\"Age groups\"])\n",
    "print(a)"
   ]
  },
  {
   "cell_type": "markdown",
   "metadata": {
    "id": "mjLnKRZNFsO4"
   },
   "source": [
    "Sorting frequency output."
   ]
  },
  {
   "cell_type": "code",
   "execution_count": 16,
   "metadata": {
    "colab": {
     "base_uri": "https://localhost:8080/"
    },
    "executionInfo": {
     "elapsed": 118,
     "status": "ok",
     "timestamp": 1627307820928,
     "user": {
      "displayName": "Katie Palso",
      "photoUrl": "",
      "userId": "09487786724836070723"
     },
     "user_tz": 240
    },
    "id": "c3mKVLcpGZ57",
    "outputId": "2477a496-d6a3-4db0-b43b-d8b3e2e112a4"
   },
   "outputs": [
    {
     "name": "stdout",
     "output_type": "stream",
     "text": [
      "sort=False\n",
      "20-24 yrs    130\n",
      "15-19 yrs    108\n",
      "45 and up    498\n",
      "25-44 yrs    264\n",
      "Name: age2, dtype: int64\n",
      "\n",
      "sort=True\n",
      "45 and up    498\n",
      "25-44 yrs    264\n",
      "20-24 yrs    130\n",
      "15-19 yrs    108\n",
      "Name: age2, dtype: int64\n"
     ]
    }
   ],
   "source": [
    "print(\"sort=False\")\n",
    "print(df['age2'].value_counts(sort=False))\n",
    "print(\"\\nsort=True\")\n",
    "print(df['age2'].value_counts(sort=True))"
   ]
  },
  {
   "cell_type": "code",
   "execution_count": 17,
   "metadata": {
    "colab": {
     "base_uri": "https://localhost:8080/"
    },
    "executionInfo": {
     "elapsed": 121,
     "status": "ok",
     "timestamp": 1627307911699,
     "user": {
      "displayName": "Katie Palso",
      "photoUrl": "",
      "userId": "09487786724836070723"
     },
     "user_tz": 240
    },
    "id": "Bb4umdkvGmk-",
    "outputId": "ee616fa7-bd33-4880-8bc9-62c666aec4da"
   },
   "outputs": [
    {
     "name": "stdout",
     "output_type": "stream",
     "text": [
      "mean category for numeric variables 'df.groupby'\n",
      "                 id     yob    age\n",
      "gender                            \n",
      "Agender      524.44  1993.0   28.0\n",
      "Bigender     483.48  1950.0   71.0\n",
      "Female       505.04  1984.0   37.0\n",
      "Genderfluid  455.14  1921.0  100.0\n",
      "Genderqueer  517.17  2016.0    5.0\n",
      "Male         507.55  1959.0   62.0\n",
      "Non-binary   516.45  1972.0   49.0\n",
      "Polygender   494.64  2000.0   21.0\n"
     ]
    }
   ],
   "source": [
    "print(\"mean category for numeric variables 'df.groupby'\")\n",
    "#save the output in a variable\n",
    "mean_out=df.groupby('gender').mean()\n",
    "#print the variable rounding to 2 decimal places\n",
    "print(round(mean_out,2))"
   ]
  },
  {
   "cell_type": "code",
   "execution_count": 18,
   "metadata": {
    "colab": {
     "base_uri": "https://localhost:8080/"
    },
    "executionInfo": {
     "elapsed": 143,
     "status": "ok",
     "timestamp": 1627307961802,
     "user": {
      "displayName": "Katie Palso",
      "photoUrl": "",
      "userId": "09487786724836070723"
     },
     "user_tz": 240
    },
    "id": "gfJJ0SiXHIi0",
    "outputId": "d82da5d9-df63-4ab9-b0d8-019bdf582e72"
   },
   "outputs": [
    {
     "name": "stdout",
     "output_type": "stream",
     "text": [
      "(DATA keep myvariable1 myvariable2) saving only a few columns\n",
      "\n",
      "(proc print obs=) first 5 observations 'df.head()'\n",
      "        age2       gender\n",
      "0  45 and up  Genderfluid\n",
      "1  25-44 yrs      Agender\n",
      "2  45 and up         Male\n",
      "3  45 and up     Bigender\n",
      "4  25-44 yrs       Female\n",
      "\n",
      "(proc print obs=) last 5 observations 'df.tail()'\n",
      "          age2       gender\n",
      "995  45 and up     Bigender\n",
      "996  25-44 yrs       Female\n",
      "997  15-19 yrs  Genderqueer\n",
      "998  45 and up   Non-binary\n",
      "999  20-24 yrs   Polygender\n",
      "\n",
      "(dictionary.columns/click view columns) find header/column/variable names 'df.keys'\n",
      "Index(['age2', 'gender'], dtype='object')\n",
      "\n",
      "same as above. 'df.columns'\n",
      "Index(['age2', 'gender'], dtype='object')\n",
      "\n",
      "(proc sql count()) rows 'df.count()'\n",
      "age2      1000\n",
      "gender    1000\n",
      "dtype: int64\n"
     ]
    }
   ],
   "source": [
    "print(\"(DATA keep myvariable1 myvariable2) saving only a few columns\")\n",
    "df2 = df[['age2','gender']].copy()\n",
    "about_df(df2)"
   ]
  },
  {
   "cell_type": "code",
   "execution_count": 19,
   "metadata": {
    "colab": {
     "base_uri": "https://localhost:8080/"
    },
    "executionInfo": {
     "elapsed": 129,
     "status": "ok",
     "timestamp": 1627307983366,
     "user": {
      "displayName": "Katie Palso",
      "photoUrl": "",
      "userId": "09487786724836070723"
     },
     "user_tz": 240
    },
    "id": "g_CO1eg4HQVW",
    "outputId": "5f8f2780-4689-445e-d6b6-4332064e6880"
   },
   "outputs": [
    {
     "name": "stdout",
     "output_type": "stream",
     "text": [
      "crosstab percentages\n",
      "col_0      count\n",
      "age2            \n",
      "15-19 yrs   10.8\n",
      "20-24 yrs   13.0\n",
      "25-44 yrs   26.4\n",
      "45 and up   49.8\n"
     ]
    }
   ],
   "source": [
    "#define crosstab\n",
    "ct = pd.crosstab(index=df['age2'], columns='count')\n",
    "#(proc freq) find proportions, round to 2 decimal places\n",
    "a = round(100*ct/ct.sum(),2)\n",
    "print(\"crosstab percentages\")\n",
    "print(a)"
   ]
  },
  {
   "cell_type": "code",
   "execution_count": 20,
   "metadata": {
    "colab": {
     "base_uri": "https://localhost:8080/"
    },
    "executionInfo": {
     "elapsed": 323,
     "status": "ok",
     "timestamp": 1627308007227,
     "user": {
      "displayName": "Katie Palso",
      "photoUrl": "",
      "userId": "09487786724836070723"
     },
     "user_tz": 240
    },
    "id": "XbUR70pDHZYl",
    "outputId": "e9a51e64-dd37-4865-d980-9a9e714c362e"
   },
   "outputs": [
    {
     "name": "stdout",
     "output_type": "stream",
     "text": [
      "column percents rounded to 2 decimal places\n",
      "Age groups   15-19 yrs  20-24 yrs  25-44 yrs  45 and up\n",
      "Gender                                                 \n",
      "Agender            0.0        0.0      47.73       0.00\n",
      "Bigender           0.0        0.0       0.00      26.91\n",
      "Female             0.0        0.0      52.27       0.00\n",
      "Genderfluid        0.0        0.0       0.00      23.29\n",
      "Genderqueer      100.0        0.0       0.00       0.00\n",
      "Male               0.0        0.0       0.00      24.70\n",
      "Non-binary         0.0        0.0       0.00      25.10\n",
      "Polygender         0.0      100.0       0.00       0.00\n"
     ]
    }
   ],
   "source": [
    "ct = pd.crosstab(df.gender, df.age2, rownames=['Gender'], colnames=['Age groups'])\n",
    "colpct = round(100*ct/ct.sum(),2)\n",
    "print(\"column percents rounded to 2 decimal places\")\n",
    "print(colpct)"
   ]
  },
  {
   "cell_type": "markdown",
   "metadata": {
    "id": "PWUFjCUaHda9"
   },
   "source": [
    "String searches in Python."
   ]
  },
  {
   "cell_type": "code",
   "execution_count": 21,
   "metadata": {
    "colab": {
     "base_uri": "https://localhost:8080/"
    },
    "executionInfo": {
     "elapsed": 124,
     "status": "ok",
     "timestamp": 1627308031948,
     "user": {
      "displayName": "Katie Palso",
      "photoUrl": "",
      "userId": "09487786724836070723"
     },
     "user_tz": 240
    },
    "id": "Y8fQlBPpHfb7",
    "outputId": "093c5df8-cb6e-41de-a40f-7664a3887820"
   },
   "outputs": [
    {
     "name": "stdout",
     "output_type": "stream",
     "text": [
      "(proc print where) return a row based on a value\n",
      "   id first_name last_name                     email   gender  zip     income  \\\n",
      "8   9    Ximenes  Matthews  xmatthews8@csmonitor.com  Agender  NaN  $70137.22   \n",
      "\n",
      "                                     movies   yob  age       age2  \n",
      "8  Wrestling for Jesus: The Tale of T-Money  1993   28  25-44 yrs  \n"
     ]
    }
   ],
   "source": [
    "# df['last_name'].isin(['Matthews']) returns true\n",
    "# the following returns the one row\n",
    "print(\"(proc print where) return a row based on a value\")\n",
    "print(df[df['last_name'].isin(['Matthews'])])"
   ]
  },
  {
   "cell_type": "code",
   "execution_count": 22,
   "metadata": {
    "colab": {
     "base_uri": "https://localhost:8080/"
    },
    "executionInfo": {
     "elapsed": 122,
     "status": "ok",
     "timestamp": 1627308040547,
     "user": {
      "displayName": "Katie Palso",
      "photoUrl": "",
      "userId": "09487786724836070723"
     },
     "user_tz": 240
    },
    "id": "GUOVISa3Hhjk",
    "outputId": "454c1c7e-dfd3-49c1-e7fe-81b01049fde5"
   },
   "outputs": [
    {
     "name": "stdout",
     "output_type": "stream",
     "text": [
      "(proc print where ID) return a row based on an id\n",
      "   id first_name last_name                         email  gender          zip  \\\n",
      "4   5        Pru  Laurance  plaurance4@timesonline.co.uk  Female  79104 CEDEX   \n",
      "\n",
      "      income        movies   yob  age       age2  \n",
      "4  $80674.04  Bottle Shock  1984   37  25-44 yrs  \n"
     ]
    }
   ],
   "source": [
    "print(\"(proc print where ID) return a row based on an id\")\n",
    "print(df[df['id'].isin(['5'])])"
   ]
  },
  {
   "cell_type": "code",
   "execution_count": 23,
   "metadata": {
    "colab": {
     "base_uri": "https://localhost:8080/"
    },
    "executionInfo": {
     "elapsed": 122,
     "status": "ok",
     "timestamp": 1627308050061,
     "user": {
      "displayName": "Katie Palso",
      "photoUrl": "",
      "userId": "09487786724836070723"
     },
     "user_tz": 240
    },
    "id": "dtu9WVEAHj0V",
    "outputId": "ab6729c0-3b47-420c-bed0-121b7a63f03e"
   },
   "outputs": [
    {
     "name": "stdout",
     "output_type": "stream",
     "text": [
      "STRINGS (index > 0)\n",
      "find string containing .contains defaults to case True meaning case sensitive\n",
      "na=False fills in something for missing values so the following command will resolve\n",
      "    id first_name last_name                    email gender  zip     income  \\\n",
      "12  13     Stacie  McNickle  smcnicklec@yolasite.com   Male  NaN  $54892.17   \n",
      "\n",
      "           movies   yob  age       age2  \n",
      "12  Caddyshack II  1959   62  45 and up  \n"
     ]
    }
   ],
   "source": [
    "print(\"STRINGS (index > 0)\")\n",
    "print(\"find string containing .contains defaults to case True meaning case sensitive\")\n",
    "print(\"na=False fills in something for missing values so the following command will resolve\")\n",
    "print(df[df['movies'].str.contains(\"Caddyshack\", case=False, na=False)])"
   ]
  },
  {
   "cell_type": "code",
   "execution_count": 24,
   "metadata": {
    "colab": {
     "base_uri": "https://localhost:8080/"
    },
    "executionInfo": {
     "elapsed": 125,
     "status": "ok",
     "timestamp": 1627308056885,
     "user": {
      "displayName": "Katie Palso",
      "photoUrl": "",
      "userId": "09487786724836070723"
     },
     "user_tz": 240
    },
    "id": "vgg9y6hfHlsh",
    "outputId": "86d0031d-8e9f-470f-aea5-c96017dfe828"
   },
   "outputs": [
    {
     "name": "stdout",
     "output_type": "stream",
     "text": [
      "with an OR and returns no rows\n",
      "Empty DataFrame\n",
      "Columns: [id, first_name, last_name, email, gender, zip, income, movies, yob, age, age2]\n",
      "Index: []\n"
     ]
    }
   ],
   "source": [
    "print(\"with an OR and returns no rows\")\n",
    "print(df[df['last_name'].str.contains(\"smith\", case=False, na=False) | df['last_name'].str.contains(\"anderson\", case=False, na=False) ] )"
   ]
  },
  {
   "cell_type": "code",
   "execution_count": 25,
   "metadata": {
    "colab": {
     "base_uri": "https://localhost:8080/"
    },
    "executionInfo": {
     "elapsed": 167,
     "status": "ok",
     "timestamp": 1627308066781,
     "user": {
      "displayName": "Katie Palso",
      "photoUrl": "",
      "userId": "09487786724836070723"
     },
     "user_tz": 240
    },
    "id": "HfLJVHAEHoIR",
    "outputId": "03fad19b-1cf9-49bd-d10e-295af52af202"
   },
   "outputs": [
    {
     "name": "stdout",
     "output_type": "stream",
     "text": [
      "with an OR and returns 12 rows because Anne and anne match with case insensitive search\n",
      "      id first_name   last_name                          email       gender  \\\n",
      "232  233   Starlene  Jaqueminet  sjaqueminet6g@kickstarter.com      Agender   \n",
      "257  258   Maryanne      Pulley         mpulley75@slashdot.org   Polygender   \n",
      "356  357   Ruthanne       Laite         rlaite9w@cafepress.com   Polygender   \n",
      "449  450   Marianne       Bewsy            mbewsych@unesco.org         Male   \n",
      "523  524     Selene      Grubbe              sgrubbeej@ovh.net   Non-binary   \n",
      "548  549    Shannen      Rameau           srameauf8@oracle.com  Genderqueer   \n",
      "590  591     Evanne      Spence            espencege@exblog.jp      Agender   \n",
      "707  708     Selene    McColley             smccolleyjn@pen.io         Male   \n",
      "775  776     Jannel     Ghidini        jghidinilj@mapquest.com         Male   \n",
      "812  813    Myrlene     Hayford         mhayfordmk@nbcnews.com  Genderfluid   \n",
      "847  848   Bethanne     Mowbray     bmowbraynj@tripadvisor.com         Male   \n",
      "912  913    Annette     Wiggans      awigganspc@yellowbook.com     Bigender   \n",
      "\n",
      "          zip     income                                             movies  \\\n",
      "232     33416  $17715.60                                             Hamlet   \n",
      "257    649787  $30092.89  Then I Sentenced Them All to Death (Atunci i-a...   \n",
      "356  4800-198  $88303.32                                   Formosa Betrayed   \n",
      "449       NaN  $24482.53                                       The Captains   \n",
      "523       NaN  $49117.24      Khroustaliov, My Car! (Khrustalyov, mashinu!)   \n",
      "548       NaN  $40140.08                                      Beautiful Boy   \n",
      "590       NaN  $17456.52                                     The Best of Me   \n",
      "707      7008  $89697.99                            Invitation to the Dance   \n",
      "775       NaN  $64153.22                                    Horrible Bosses   \n",
      "812       NaN  $51082.10                               Good Guys Wear Black   \n",
      "847       NaN  $59299.83                                          Out Late    \n",
      "912    32-859  $34223.24              Battlefield Baseball (Jigoku kôshien)   \n",
      "\n",
      "      yob  age       age2  \n",
      "232  1993   28  25-44 yrs  \n",
      "257  2000   21  20-24 yrs  \n",
      "356  2000   21  20-24 yrs  \n",
      "449  1959   62  45 and up  \n",
      "523  1972   49  45 and up  \n",
      "548  2016    5  15-19 yrs  \n",
      "590  1993   28  25-44 yrs  \n",
      "707  1959   62  45 and up  \n",
      "775  1959   62  45 and up  \n",
      "812  1921  100  45 and up  \n",
      "847  1959   62  45 and up  \n",
      "912  1950   71  45 and up  \n"
     ]
    }
   ],
   "source": [
    "print(\"with an OR and returns 12 rows because Anne and anne match with case insensitive search\")\n",
    "print(df[df['first_name'].str.contains(\"anne|LENE\", case=False, na=False)] )"
   ]
  },
  {
   "cell_type": "markdown",
   "metadata": {
    "id": "aRgoK81jHro1"
   },
   "source": [
    "Sorting Data and Printing in Python."
   ]
  },
  {
   "cell_type": "code",
   "execution_count": 26,
   "metadata": {
    "colab": {
     "base_uri": "https://localhost:8080/"
    },
    "executionInfo": {
     "elapsed": 122,
     "status": "ok",
     "timestamp": 1627308089560,
     "user": {
      "displayName": "Katie Palso",
      "photoUrl": "",
      "userId": "09487786724836070723"
     },
     "user_tz": 240
    },
    "id": "LAD9paLnHtZP",
    "outputId": "ca22c063-d369-4c5b-b3d9-ac81cda2eb55"
   },
   "outputs": [
    {
     "name": "stdout",
     "output_type": "stream",
     "text": [
      "python sort is default ascending order\n",
      "(proc sort) sort based on one column - numeric\n",
      "     before sort\n",
      "0    100\n",
      "1     28\n",
      "2     62\n",
      "3     71\n",
      "4     37\n",
      "Name: age, dtype: int64\n",
      "     after sort - small to large\n",
      "576    5\n",
      "598    5\n",
      "604    5\n",
      "370    5\n",
      "369    5\n",
      "Name: age, dtype: int64\n"
     ]
    }
   ],
   "source": [
    "print(\"python sort is default ascending order\")\n",
    "print(\"(proc sort) sort based on one column - numeric\")\n",
    "print(\"     before sort\")\n",
    "print(df['age'].head())\n",
    "print(\"     after sort - small to large\")\n",
    "print(df.sort_values(by='age')['age'].head())"
   ]
  },
  {
   "cell_type": "code",
   "execution_count": 27,
   "metadata": {
    "colab": {
     "base_uri": "https://localhost:8080/"
    },
    "executionInfo": {
     "elapsed": 126,
     "status": "ok",
     "timestamp": 1627308097093,
     "user": {
      "displayName": "Katie Palso",
      "photoUrl": "",
      "userId": "09487786724836070723"
     },
     "user_tz": 240
    },
    "id": "-cknOmObHulg",
    "outputId": "2a5957c0-d476-4a2e-a61a-6975c79141e7"
   },
   "outputs": [
    {
     "name": "stdout",
     "output_type": "stream",
     "text": [
      "(proc sort) sort based on one column - string\n",
      "     before sort\n",
      "0    Mariette\n",
      "1      Andrey\n",
      "2     Gustavo\n",
      "3      Jonell\n",
      "4         Pru\n",
      "Name: first_name, dtype: object\n",
      "     after sort ascending - A to Z\n",
      "381      Aaren\n",
      "799       Abie\n",
      "406      Adara\n",
      "805    Addison\n",
      "931       Adel\n",
      "Name: first_name, dtype: object\n"
     ]
    }
   ],
   "source": [
    "print(\"(proc sort) sort based on one column - string\")\n",
    "print(\"     before sort\")\n",
    "print(df['first_name'].head())\n",
    "print(\"     after sort ascending - A to Z\")\n",
    "print(df.sort_values(by='first_name')['first_name'].head())"
   ]
  },
  {
   "cell_type": "code",
   "execution_count": 28,
   "metadata": {
    "colab": {
     "base_uri": "https://localhost:8080/"
    },
    "executionInfo": {
     "elapsed": 139,
     "status": "ok",
     "timestamp": 1627308108220,
     "user": {
      "displayName": "Katie Palso",
      "photoUrl": "",
      "userId": "09487786724836070723"
     },
     "user_tz": 240
    },
    "id": "IzcL9kU4HwjJ",
    "outputId": "eb8f3741-bcce-4550-d491-cb674008b043"
   },
   "outputs": [
    {
     "name": "stdout",
     "output_type": "stream",
     "text": [
      "the same sorts as above but descending order\n",
      "(proc sort) sort based on one column - numeric\n",
      "     before sort\n",
      "0    100\n",
      "1     28\n",
      "2     62\n",
      "3     71\n",
      "4     37\n",
      "Name: age, dtype: int64\n",
      "     after sort descending - large to small\n",
      "0      100\n",
      "545    100\n",
      "552    100\n",
      "812    100\n",
      "238    100\n",
      "Name: age, dtype: int64\n"
     ]
    }
   ],
   "source": [
    "print(\"the same sorts as above but descending order\")\n",
    "print(\"(proc sort) sort based on one column - numeric\")\n",
    "print(\"     before sort\")\n",
    "print(df['age'].head())\n",
    "print(\"     after sort descending - large to small\")\n",
    "print(df.sort_values(by='age', ascending=False)['age'].head())"
   ]
  },
  {
   "cell_type": "code",
   "execution_count": 29,
   "metadata": {
    "colab": {
     "base_uri": "https://localhost:8080/"
    },
    "executionInfo": {
     "elapsed": 129,
     "status": "ok",
     "timestamp": 1627308115426,
     "user": {
      "displayName": "Katie Palso",
      "photoUrl": "",
      "userId": "09487786724836070723"
     },
     "user_tz": 240
    },
    "id": "e3tMBiECHz_b",
    "outputId": "432d3ef8-ba90-4110-d164-f2b256643a82"
   },
   "outputs": [
    {
     "name": "stdout",
     "output_type": "stream",
     "text": [
      "(proc sort) sort based on one column - string\n",
      "     before sort\n",
      "0    Mariette\n",
      "1      Andrey\n",
      "2     Gustavo\n",
      "3      Jonell\n",
      "4         Pru\n",
      "Name: first_name, dtype: object\n",
      "     after sort descending - Z to A\n",
      "126    Zilvia\n",
      "928    Zilvia\n",
      "368      Zerk\n",
      "36       Zerk\n",
      "825      Zena\n",
      "Name: first_name, dtype: object\n"
     ]
    }
   ],
   "source": [
    "print(\"(proc sort) sort based on one column - string\")\n",
    "print(\"     before sort\")\n",
    "print(df['first_name'].head())\n",
    "print(\"     after sort descending - Z to A\")\n",
    "print(df.sort_values(by='first_name', ascending=False)['first_name'].head())"
   ]
  },
  {
   "cell_type": "code",
   "execution_count": null,
   "metadata": {},
   "outputs": [],
   "source": []
  },
  {
   "cell_type": "code",
   "execution_count": null,
   "metadata": {},
   "outputs": [],
   "source": []
  }
 ],
 "metadata": {
  "colab": {
   "authorship_tag": "ABX9TyM5JWpAONow/1EVnG6wjI7r",
   "collapsed_sections": [],
   "name": "python_examples.ipynb",
   "provenance": []
  },
  "kernelspec": {
   "display_name": "Python 3",
   "language": "python",
   "name": "python3"
  },
  "language_info": {
   "codemirror_mode": {
    "name": "ipython",
    "version": 3
   },
   "file_extension": ".py",
   "mimetype": "text/x-python",
   "name": "python",
   "nbconvert_exporter": "python",
   "pygments_lexer": "ipython3",
   "version": "3.7.3"
  }
 },
 "nbformat": 4,
 "nbformat_minor": 1
}
